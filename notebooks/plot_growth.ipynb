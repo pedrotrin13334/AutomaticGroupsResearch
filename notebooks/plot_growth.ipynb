{
 "cells": [
  {
   "cell_type": "markdown",
   "metadata": {},
   "source": [
    "### First Let's run the gap code to calculate the growth of the grigorchuck automata group \n",
    "\n",
    "The Grigorchuck group has intermediate growth. It is defined as: $$\\left<a=(1,1)(1,2),b=(a,c),c=(a,d),d=(1,b)\\right>$$"
   ]
  },
  {
   "cell_type": "code",
   "execution_count": 1,
   "metadata": {},
   "outputs": [
    {
     "name": "stderr",
     "output_type": "stream",
     "text": [
      "cat: ./src/FPGroups/examples2.g: No such file or directory\n"
     ]
    },
    {
     "data": {
      "text/plain": [
       "0"
      ]
     },
     "execution_count": 1,
     "metadata": {},
     "output_type": "execute_result"
    }
   ],
   "source": [
    "import os \n",
    "os.system(\"cat ./src/FPGroups/examples2.g | gap-local -q\")\n"
   ]
  },
  {
   "cell_type": "markdown",
   "metadata": {},
   "source": [
    "Now We Plot It: "
   ]
  },
  {
   "cell_type": "code",
   "execution_count": null,
   "metadata": {},
   "outputs": [],
   "source": [
    "import matplotlib.pyplot as plt \n",
    "import numpy as np\n",
    "import json\n",
    "\n",
    "# read file\n",
    "with open('data/growth.json', 'r') as file:\n",
    "    data=file.read()\n",
    "\n",
    "data = json.loads(data)\n",
    "x_range = list(range(1, len(data) +1 ))\n",
    "#S_CONST = np.log(31)/np.log(32)\n",
    "\n",
    "#lower_bound = list(map(lambda x: np.exp(x**S_CONST), x_range))\n",
    "\n",
    "plt.grid(\"on\")\n",
    "plt.plot(x_range, data)\n",
    "plt.title(\"Growth Function of The Grigorchuck Group\")\n",
    "plt.xlabel(\"Word Length\")\n",
    "plt.ylabel(\"Number of Reduced Words of size N\")\n",
    "#plt.plot(x_range, lower_bound)\n",
    "plt.show()"
   ]
  },
  {
   "cell_type": "code",
   "execution_count": 16,
   "metadata": {},
   "outputs": [
    {
     "name": "stdout",
     "output_type": "stream",
     "text": [
      "Checking Automata Structure of Z^n...\n",
      "Group([ f1^2, f2, f3 ])\n",
      "Index of the Subgroup H: \n",
      "2\n",
      "[ f1^2, f2, f3 ] -> [ f1, <identity ...>, <identity ...> ]\n",
      "Non Trivial Kernel? \n",
      "false\n"
     ]
    },
    {
     "data": {
      "text/plain": [
       "0"
      ]
     },
     "execution_count": 16,
     "metadata": {},
     "output_type": "execute_result"
    }
   ],
   "source": [
    "import os\n",
    "\n",
    "os.chdir('/home/nameless/math/codes/AutomaticGroupsResearch')\n",
    "os.system('cat ./src/FPGroups/examples/FFunctions/example1.g | gap-local -q')\n"
   ]
  },
  {
   "cell_type": "code",
   "execution_count": null,
   "metadata": {},
   "outputs": [],
   "source": []
  }
 ],
 "metadata": {
  "kernelspec": {
   "display_name": "MathResearch",
   "language": "python",
   "name": "python3"
  },
  "language_info": {
   "codemirror_mode": {
    "name": "ipython",
    "version": 3
   },
   "file_extension": ".py",
   "mimetype": "text/x-python",
   "name": "python",
   "nbconvert_exporter": "python",
   "pygments_lexer": "ipython3",
   "version": "3.11.5"
  }
 },
 "nbformat": 4,
 "nbformat_minor": 2
}
